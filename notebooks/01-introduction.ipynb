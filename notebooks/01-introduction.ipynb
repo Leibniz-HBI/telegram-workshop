{
 "cells": [
  {
   "cell_type": "markdown",
   "metadata": {},
   "source": [
    "# Wie man Daten aus Telegram bekommt.\n",
    "\n",
    "![Telegram Logo](https://telegram.org/img/t_logo.png)\n",
    "\n",
    "---\n",
    "\n",
    "## Voraussetzungen\n",
    "\n",
    "![Telegram device overview](../images/telegram-device-overview-small.PNG)\n",
    "\n",
    "![Telegram device removal limits](../images/telegram-device-removal-limits-small.PNG)\n",
    "\n"
   ]
  },
  {
   "cell_type": "code",
   "execution_count": 3,
   "metadata": {},
   "outputs": [
    {
     "name": "stdout",
     "output_type": "stream",
     "text": [
      "Usage: tegracli [OPTIONS] COMMAND [ARGS]...\n",
      "\n",
      "  Tegracli!! Retrieve messages from *Te*le*gra*m with a *CLI*!\n",
      "\n",
      "Options:\n",
      "  -d, --debug              Enable legacy debugging, is overwritten by the\n",
      "                           other options. Defaults to False.\n",
      "  -v, --verbose            Logging verbosity.\n",
      "  -l, --log-file FILENAME  File to log to. Defaults to STDOUT.\n",
      "  -s, --serialize          Serialize output to JSON.\n",
      "  --help                   Show this message and exit.\n",
      "\n",
      "Commands:\n",
      "  configure  Configure tegracli.\n",
      "  get        Get messages for the specified channels by either ID or...\n",
      "  group      Manage account groups.\n",
      "  hydrate    Hydrate a file with messages-ids.\n",
      "  search     Searches Telegram content that is available to your account.\n"
     ]
    }
   ],
   "source": [
    "! tegracli"
   ]
  },
  {
   "cell_type": "markdown",
   "metadata": {},
   "source": [
    "Um `tegracli` zu konfigurieren, führe den folgenden Befehl in einem Terminal[^1] aus:\n",
    "\n",
    "```bash\n",
    "tegracli configure\n",
    "```\n",
    "\n",
    "Dieser Befehl führt Dich mittels prompts interaktiv durch den Konfigurationsprozess. Die Konfiguration wird in der Datei `tegracli.conf.yaml` gespeichert.\n",
    "\n",
    "Dabei werden sowohl die zu nutztende Telegram-App, als auch eine User-Session konfiguriert. Du brauchst dafür:\n",
    "- die Telegram-App, die Du nutzen möchtest, als App-Id,\n",
    "- den API-Hash der Telegram-App,\n",
    "- einen Session-Namen,\n",
    "- Deine Telefonnummer,\n",
    "- den Code, den Du per Telegram-Nachricht erhältst.\n",
    "\n",
    "Beispielsweise könnte die Konfiguration so aussehen:\n",
    "\n",
    "```bash\n",
    "\n",
    "user@jupyter-server:~$ tegracli configure\n",
    "api_id: 1234567\n",
    "api_hash: 3e83889647c268dc1a32abbcea26a15d\n",
    "session_name: telegramresearchaccessworkshop\n",
    "Enter your phone number: +491601234578\n",
    "Enter 2FA code: 12345\n",
    "```\n",
    "\n",
    "[^1]: Eine Eingabe über JupyterLab ist nicht möglich, da `tegracli` an dieser Stelle interaktiv arbeitet."
   ]
  },
  {
   "cell_type": "code",
   "execution_count": 2,
   "metadata": {},
   "outputs": [
    {
     "name": "stdout",
     "output_type": "stream",
     "text": [
      "Usage: tegracli configure [OPTIONS]\n",
      "\n",
      "  Configure tegracli.\n",
      "\n",
      "Options:\n",
      "  --help  Show this message and exit.\n"
     ]
    }
   ],
   "source": [
    "! tegracli configure --help"
   ]
  }
 ],
 "metadata": {
  "kernelspec": {
   "display_name": "telegram-workshop",
   "language": "python",
   "name": "telegram-workshop"
  },
  "language_info": {
   "codemirror_mode": {
    "name": "ipython",
    "version": 3
   },
   "file_extension": ".py",
   "mimetype": "text/x-python",
   "name": "python",
   "nbconvert_exporter": "python",
   "pygments_lexer": "ipython3",
   "version": "3.10.12"
  }
 },
 "nbformat": 4,
 "nbformat_minor": 2
}
