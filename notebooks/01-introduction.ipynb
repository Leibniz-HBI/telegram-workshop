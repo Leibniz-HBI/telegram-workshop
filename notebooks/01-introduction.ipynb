{
 "cells": [
  {
   "cell_type": "markdown",
   "metadata": {},
   "source": [
    "# Telegram.\n",
    "\n",
    "A (hopefully) useful guide to get and analyze data from Telegram.\n",
    "\n",
    "*P. Kessling, Leibniz-Institute for Media Research | Hans-Bredow-Institute (HBI), Hamburg, Germany, 2024-01-22.*\n",
    "\n",
    "## Table of Contents\n",
    "\n",
    "- [Telegram.](#telegram)\n",
    "  - [Table of Contents](#table-of-contents)\n",
    "  - [Data Structure](#data-structure)\n",
    "    - [Base Objects](#base-objects)\n",
    "  - [Data Access](#data-access)\n",
    "    - [API-Access](#api-access)\n",
    "      - [Requirements](#requirements)\n",
    "    - [Scraping](#scraping)\n",
    "      - [`ponyexpress`](#ponyexpress)\n",
    "    - [Desktop App](#desktop-app)\n",
    "\n",
    "## Introduction\n",
    "\n",
    "Telegram is a messenger app that not only offers one-to-one chats but also group chats, channels, bots and more. The data structure is quite complex as it uses a few base objects for all of the different chat and group types.\n",
    "\n",
    "*Fig. 1: Telegram Web: The public web view of Boris Reitschuster's [channel](https://t.me/reitschusterde)*\n",
    "![Telegram Web: The public web view of a channel.](../images/screenshot-2024-01-22-21-10-47-reitschusterde.png)\n",
    "\n",
    "\n",
    "### Base Objects\n",
    "\n",
    "The base objects are the following:\n",
    "\n",
    "**Chats**: A chat is a conversation between one or more users. A chat can be a private chat, a group or a channel.\n",
    "\n",
    "- **User**: A user is a person that uses Telegram. A user can be part of a group or channel.\n",
    "- **Group**: A group is a chat with multiple users. A group can be public or private.\n",
    "- **Channel**: A channel is a chat with multiple users. A channel can be public or private.\n",
    "\n",
    "However, there are a few complexities that need to be considered[^1]. A channel is per default a one-to-many communication [channel](https://telegram.org/tour/channels) with an unlimited number of subscribers. A channel can be converted into a [supergroup](https://telegram.org/tour/groups) which is a group with up to 200,000 members and technically also a channels. A \n",
    "\n",
    "[^1]: [Telegram Documentation](https://core.telegram.org/api/channel#channels)\n",
    "\n",
    "**Messages**: A message is a text message that is sent in a chat. A message can also contain media like images, videos, documents, etc. It may contain:\n",
    "\n",
    "- **Media**: A media is a file that is sent in a message. A media can be an image, video, document, etc.\n",
    "- **Sticker**: A sticker is a special type of media that is sent in a message. A sticker is an image that is sent in a special format.\n",
    "- **Location**: A location is a special type of media that is sent in a message. A location is a latitude and longitude value.\n",
    "- **Contact**: A contact is a special type of media that is sent in a message. A contact is a person that is saved in the contacts of the user.\n",
    "- **Poll**: A poll is a special type of media that is sent in a message. A poll is a question with multiple answers.\n",
    "- **Action**: An action is a special type of message that is sent in a chat. An action is a message that is sent when a user joins or leaves a group or channel.\n",
    "- **Reply**: A reply is a special type of message that is sent in a chat. A reply is a message that is sent as a reply to another message.\n",
    "- **Forward**: A forward is a special type of message that is sent in a chat. A forward is a message that is sent as a forward of another message.\n",
    "- **Edit**: An edit is a special type of message that is sent in a chat. An edit is a message that is sent when a message is edited.\n",
    "\n",
    "**Bots**: A bot is a special type of user that is used to automate tasks. A bot can be part of a group or channel.\n"
   ]
  },
  {
   "cell_type": "markdown",
   "metadata": {},
   "source": [
    "## Data Access\n",
    "\n",
    "We have a few different methods at hand to obtain data from Telegram for public channels and groups.\n",
    "We'll have a look at them in depth in the next sections, starting easy and getting more complex.\n",
    "\n",
    "### Telegram Desktop App\n",
    "\n",
    "The Telegram Desktop App offers a few options to export data. The easiest way is to export a chat as a JSON file. This file contains all messages of the chat. However, it does not contain any media like images, videos, etc. The media can be exported separately.\n",
    "\n"
   ]
  },
  {
   "cell_type": "markdown",
   "metadata": {},
   "source": [
    "### Scraping the Public Web Interface\n",
    "\n",
    "Since, Telegram offers a publicly accessible web interface for channels, we can scrape the data from there. The web interface is available at `https://t.me/<channel_name>`.\n",
    "\n",
    "We developed a tool called `ponyexpress-telegram` that can scrape the data from the web interface. It is available on [GitHub](https://www.github.com/Leibniz-HBI/ponyexpress-telegram).\n",
    "\n",
    "\n",
    "```bash\n",
    "$ telegram --help\n",
    "\n",
    "Usage: telegram [OPTIONS] [NAMES]...\n",
    "\n",
    "  Scrape Telegram Channels.\n",
    "\n",
    "Options:\n",
    "  --version                       Show the version and exit.\n",
    "  -m, --messages-output FILENAME\n",
    "  -u, --users-output FILENAME\n",
    "  -p, --prepare-edges\n",
    "  -l, --log-file PATH\n",
    "  -v, --verbose\n",
    "  --help                          Show this message and exit.\n",
    "```\n",
    "\n",
    "```json\n",
    "{\n",
    "  \"post_id\": \"reitschusterde/8920\",\n",
    "  \"views\": 14400,\n",
    "  \"datetime\": 1705571988000,\n",
    "  \"user\": \"reitschuster.de\",\n",
    "  \"from_author\": null,\n",
    "  \"text\": \"Ampel will „Regenbogen-Familien“ stärken – auf Kosten der Kinder?Anpassung „an soziale Wirklichkeit“.Die Bundesregierung plant weitreichende Reformen bei Adoption und Sorgerecht. Dazu sollen die Mindeststrafen bei Kinderpornografie wieder gesenkt werden. Einige der dabei verwendeten Wörter und Formulierungen müssen aufhorchen lassen. Von Kai Rebmann. https://reitschuster.de/post/ampel-will-regenbogen-familien-staerken-auf-kosten-der-kinder/\",\n",
    "  \"link\": [\n",
    "    \"https://reitschuster.de/post/ampel-will-regenbogen-familien-staerken-auf-kosten-der-kinder/\",\n",
    "    \"https://reitschuster.de/post/ampel-will-regenbogen-familien-staerken-auf-kosten-der-kinder/\",\n",
    "    \"https://reitschuster.de/post/ampel-will-regenbogen-familien-staerken-auf-kosten-der-kinder/\",\n",
    "    \"https://reitschuster.de/post/ampel-will-regenbogen-familien-staerken-auf-kosten-der-kinder/\"\n",
    "  ],\n",
    "  \"reply_to_user\": null,\n",
    "  \"reply_to_text\": null,\n",
    "  \"reply_to_link\": null,\n",
    "  \"image_url\": [],\n",
    "  \"forwarded_message_url\": null,\n",
    "  \"forwarded_message_user\": null,\n",
    "  \"video_url\": [],\n",
    "  \"video_duration\": null,\n",
    "  \"handle\": \"reitschusterde\",\n",
    "  \"post_number\": \"8920\"\n",
    "}\n",
    "```\n",
    "\n",
    "```json\n",
    "{\n",
    "  \"name\": \"reitschusterde\",\n",
    "  \"fullname\": \"reitschuster.de\",\n",
    "  \"url\": \"https://t.me/reitschusterde\",\n",
    "  \"description\": \"Offizieller Kanal von Boris Reitschuster\",\n",
    "  \"subscriber_count\": 235000,\n",
    "  \"photos_count\": 754,\n",
    "  \"videos_count\": 86,\n",
    "  \"files_count\": 9,\n",
    "  \"links_count\": 7440\n",
    "}\n",
    "```"
   ]
  },
  {
   "cell_type": "markdown",
   "metadata": {},
   "source": [
    "\n",
    "## API-Access\n",
    "\n",
    "Telegram offers a [Telegram API](https://core.telegram.org/api) to access the data of your account. The API is not public and you need to create a developer app to get access to the API. The API is not very well documented and you need to figure out a lot of things by yourself.\n",
    "\n",
    "\n",
    "\n",
    "### Requirements\n",
    "\n",
    "- **Telegram account**: Have Telegram installed on your phone and create an account.\n",
    "- **Developer app**: Create a developer app on [Telegram](https://my.telegram.org/apps) and retrieve the following information:\n",
    "  - Telegram API key\n",
    "  - Telegram API hash\n",
    "- ...\n",
    "- Profit!\n",
    "\n",
    "---\n",
    "\n",
    "![Telegram device overview](../images/telegram-device-overview-small.PNG)\n",
    "\n",
    "![Telegram device removal limits](../images/telegram-device-removal-limits-small.PNG)\n",
    "\n"
   ]
  },
  {
   "cell_type": "markdown",
   "metadata": {},
   "source": [
    "## tegracli\n",
    "\n",
    "[tegracli](https://www.github.com/Leibniz-HBI/tegracli) is a command line interface for Telegram. It is written in Python and uses the [Telethon]() library to access the Telegram API. It is intended for research use, e.g. collecting large account-based datasets.\n",
    "It allows you also to persists data from a single channel or search for keywords in the channels your account in subscribed to.\n",
    "\n",
    "### Installation\n",
    "\n",
    "`tegracli` is available on [PyPI](https://pypi.org/project/tegracli/) and can be installed via `pip`:\n",
    "\n",
    "```bash\n",
    "pip install tegracli\n",
    "```\n",
    "\n",
    "Alternatively you can install it with `pipx`:\n",
    "\n",
    "```bash\n",
    "# pip install pipx # if not already installed\n",
    "pipx install tegracli\n",
    "```\n"
   ]
  },
  {
   "cell_type": "code",
   "execution_count": 3,
   "metadata": {},
   "outputs": [
    {
     "name": "stdout",
     "output_type": "stream",
     "text": [
      "Usage: tegracli [OPTIONS] COMMAND [ARGS]...\n",
      "\n",
      "  Tegracli!! Retrieve messages from *Te*le*gra*m with a *CLI*!\n",
      "\n",
      "Options:\n",
      "  -d, --debug              Enable legacy debugging, is overwritten by the\n",
      "                           other options. Defaults to False.\n",
      "  -v, --verbose            Logging verbosity.\n",
      "  -l, --log-file FILENAME  File to log to. Defaults to STDOUT.\n",
      "  -s, --serialize          Serialize output to JSON.\n",
      "  --help                   Show this message and exit.\n",
      "\n",
      "Commands:\n",
      "  configure  Configure tegracli.\n",
      "  get        Get messages for the specified channels by either ID or...\n",
      "  group      Manage account groups.\n",
      "  hydrate    Hydrate a file with messages-ids.\n",
      "  search     Searches Telegram content that is available to your account.\n"
     ]
    }
   ],
   "source": [
    "! tegracli"
   ]
  },
  {
   "cell_type": "markdown",
   "metadata": {},
   "source": [
    "To configure `tegracli`, run the following command in a terminal[^1]:\n",
    "\n",
    "```bash\n",
    "tegracli configure\n",
    "```\n",
    "\n",
    "Dieser Befehl führt Dich mittels prompts interaktiv durch den Konfigurationsprozess. Die Konfiguration wird in der Datei `tegracli.conf.yaml` gespeichert.\n",
    "\n",
    "Dabei werden sowohl die zu nutztende Telegram-App, als auch eine User-Session konfiguriert. Du brauchst dafür:\n",
    "- die Telegram-App, die Du nutzen möchtest, als App-Id,\n",
    "- den API-Hash der Telegram-App,\n",
    "- einen Session-Namen,\n",
    "- Deine Telefonnummer,\n",
    "- den Code, den Du per Telegram-Nachricht erhältst.\n",
    "\n",
    "Take the following as an example for the configuration process:\n",
    "\n",
    "```bash\n",
    "\n",
    "user@jupyter-server:~$ tegracli configure\n",
    "api_id: 1234567\n",
    "api_hash: 3e83889647c268dc1a32abbcea26a15d\n",
    "session_name: telegramresearchaccessworkshop\n",
    "Enter your phone number: +491601234578\n",
    "Enter 2FA code: 12345\n",
    "```\n",
    "\n",
    "[^1]: Running this in JupyterLab or a Jupyter notebook is not possible, since they do not allow interactive prompts."
   ]
  },
  {
   "cell_type": "code",
   "execution_count": 4,
   "metadata": {},
   "outputs": [
    {
     "name": "stdout",
     "output_type": "stream",
     "text": [
      "Usage: tegracli configure [OPTIONS]\n",
      "\n",
      "  Configure tegracli.\n",
      "\n",
      "Options:\n",
      "  --help  Show this message and exit.\n"
     ]
    }
   ],
   "source": [
    "! tegracli configure --help"
   ]
  },
  {
   "cell_type": "markdown",
   "metadata": {},
   "source": [
    "# Inspect Data"
   ]
  },
  {
   "cell_type": "code",
   "execution_count": null,
   "metadata": {},
   "outputs": [],
   "source": [
    "import pandas as pd\n",
    "\n",
    "pd.read_json('filename.jsonl', lines=True)"
   ]
  },
  {
   "cell_type": "markdown",
   "metadata": {},
   "source": [
    "## Data Repositories\n",
    "\n",
    "- **Social Media Observatory**: [SMO](https://leibniz-hbi.de/de/projekte/social-media-observatory)\n",
    "- **Data4Transperancy**: [D4T](https://data4transparency.com/) offers researchers access to a collection of Telegram data. "
   ]
  },
  {
   "cell_type": "markdown",
   "metadata": {},
   "source": [
    "## The Data Set of this Workshop\n",
    "\n",
    "The data set of this workshop is centered on the protests in Lützerath in late 2022. Since Telegram does not offer a global search endpoint, we searched in our main Telegram data set which consists of approx. 15.000 channels and 100 million messages. We searched for the following term `Lütz*`.\n",
    "\n",
    "The data set is available for particapants via the workshops chat or on request.\n",
    "\n"
   ]
  }
 ],
 "metadata": {
  "kernelspec": {
   "display_name": "telegram-workshop",
   "language": "python",
   "name": "telegram-workshop"
  },
  "language_info": {
   "codemirror_mode": {
    "name": "ipython",
    "version": 3
   },
   "file_extension": ".py",
   "mimetype": "text/x-python",
   "name": "python",
   "nbconvert_exporter": "python",
   "pygments_lexer": "ipython3",
   "version": "3.10.12"
  }
 },
 "nbformat": 4,
 "nbformat_minor": 2
}
