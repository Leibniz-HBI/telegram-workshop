{
 "cells": [
  {
   "cell_type": "code",
   "execution_count": 1,
   "metadata": {},
   "outputs": [
    {
     "name": "stdout",
     "output_type": "stream",
     "text": [
      "Usage: tegracli [OPTIONS] COMMAND [ARGS]...\n",
      "\n",
      "  Tegracli!! Retrieve messages from *Te*le*gra*m with a *CLI*!\n",
      "\n",
      "Options:\n",
      "  -d, --debug              Enable legacy debugging, is overwritten by the\n",
      "                           other options. Defaults to False.\n",
      "  -v, --verbose            Logging verbosity.\n",
      "  -l, --log-file FILENAME  File to log to. Defaults to STDOUT.\n",
      "  -s, --serialize          Serialize output to JSON.\n",
      "  --help                   Show this message and exit.\n",
      "\n",
      "Commands:\n",
      "  configure  Configure tegracli.\n",
      "  get        Get messages for the specified channels by either ID or...\n",
      "  group      Manage account groups.\n",
      "  hydrate    Hydrate a file with messages-ids.\n",
      "  search     Searches Telegram content that is available to your account.\n"
     ]
    }
   ],
   "source": [
    "! tegracli"
   ]
  },
  {
   "cell_type": "code",
   "execution_count": 2,
   "metadata": {},
   "outputs": [
    {
     "name": "stdout",
     "output_type": "stream",
     "text": [
      "Usage: tegracli configure [OPTIONS]\n",
      "\n",
      "  Configure tegracli.\n",
      "\n",
      "Options:\n",
      "  --help  Show this message and exit.\n"
     ]
    }
   ],
   "source": [
    "! tegracli configure --help"
   ]
  }
 ],
 "metadata": {
  "kernelspec": {
   "display_name": "telegram-workshop",
   "language": "python",
   "name": "telegram-workshop"
  },
  "language_info": {
   "codemirror_mode": {
    "name": "ipython",
    "version": 3
   },
   "file_extension": ".py",
   "mimetype": "text/x-python",
   "name": "python",
   "nbconvert_exporter": "python",
   "pygments_lexer": "ipython3",
   "version": "3.10.12"
  }
 },
 "nbformat": 4,
 "nbformat_minor": 2
}
